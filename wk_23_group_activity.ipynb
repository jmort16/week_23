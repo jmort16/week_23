{
 "cells": [
  {
   "cell_type": "markdown",
   "id": "20ac4c2e",
   "metadata": {},
   "source": [
    "##### Expand the flask app from class to add functions to create, update, and delete records.  Use the mongodb documentation https://docs.mongodb.com/manual/reference/ . Create can use insert_one method, update can use update_one, and delete can use delete_one."
   ]
  },
  {
   "cell_type": "code",
   "execution_count": null,
   "id": "3a95cb0f",
   "metadata": {},
   "outputs": [],
   "source": []
  }
 ],
 "metadata": {
  "kernelspec": {
   "display_name": "Python 3 (ipykernel)",
   "language": "python",
   "name": "python3"
  },
  "language_info": {
   "codemirror_mode": {
    "name": "ipython",
    "version": 3
   },
   "file_extension": ".py",
   "mimetype": "text/x-python",
   "name": "python",
   "nbconvert_exporter": "python",
   "pygments_lexer": "ipython3",
   "version": "3.9.7"
  }
 },
 "nbformat": 4,
 "nbformat_minor": 5
}
